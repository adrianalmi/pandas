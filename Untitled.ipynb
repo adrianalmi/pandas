{
 "cells": [
  {
   "cell_type": "code",
   "execution_count": 1,
   "id": "31e0278e-2dda-429f-8582-ed621b3435ec",
   "metadata": {
    "tags": []
   },
   "outputs": [],
   "source": [
    "import pandas as pd"
   ]
  },
  {
   "cell_type": "code",
   "execution_count": 108,
   "id": "99fcf71f-ffa7-42bc-982e-298ea5b4944a",
   "metadata": {
    "tags": []
   },
   "outputs": [],
   "source": [
    "serie = pd.Series(['Juan', 'Ana', 'Luis'])"
   ]
  },
  {
   "cell_type": "code",
   "execution_count": 110,
   "id": "3e954444-3a18-47e8-bbda-e6f7b554ec6f",
   "metadata": {
    "tags": []
   },
   "outputs": [
    {
     "data": {
      "text/plain": [
       "pandas.core.series.Series"
      ]
     },
     "execution_count": 110,
     "metadata": {},
     "output_type": "execute_result"
    }
   ],
   "source": [
    "type(serie)"
   ]
  },
  {
   "cell_type": "code",
   "execution_count": 111,
   "id": "b564302a-4e95-4dc6-9be9-991388248136",
   "metadata": {
    "tags": []
   },
   "outputs": [
    {
     "name": "stdout",
     "output_type": "stream",
     "text": [
      "0    Juan\n",
      "1     Ana\n",
      "2    Luis\n",
      "dtype: object\n"
     ]
    }
   ],
   "source": [
    "print(serie)"
   ]
  },
  {
   "cell_type": "code",
   "execution_count": 113,
   "id": "c25bf279-3f97-45c0-a16f-6fa46c259ba4",
   "metadata": {
    "tags": []
   },
   "outputs": [],
   "source": [
    "data = {'Nombre': ['Juan', 'Ana', 'Luis'], 'Edad': [28, 24, 22]}"
   ]
  },
  {
   "cell_type": "code",
   "execution_count": 115,
   "id": "433e14bd-efed-492a-acc2-3b36b52b9a3a",
   "metadata": {
    "tags": []
   },
   "outputs": [
    {
     "data": {
      "text/plain": [
       "dict"
      ]
     },
     "execution_count": 115,
     "metadata": {},
     "output_type": "execute_result"
    }
   ],
   "source": [
    "type(data)"
   ]
  },
  {
   "cell_type": "code",
   "execution_count": 117,
   "id": "f7ecf8a6-f2f7-449a-929f-70eaa0446385",
   "metadata": {
    "tags": []
   },
   "outputs": [],
   "source": [
    "df = pd.DataFrame(data=data)"
   ]
  },
  {
   "cell_type": "markdown",
   "id": "a87bf0fb-91fc-4277-9f9f-3c0a7d0f12e9",
   "metadata": {
    "tags": []
   },
   "source": [
    "Cargar JSON "
   ]
  },
  {
   "cell_type": "code",
   "execution_count": null,
   "id": "8a6db2b6-cd24-4ddc-933f-5d690083e3d4",
   "metadata": {},
   "outputs": [],
   "source": [
    "import requests "
   ]
  },
  {
   "cell_type": "code",
   "execution_count": 145,
   "id": "d77ad91b-77c5-48a7-a156-40081203f64a",
   "metadata": {
    "tags": []
   },
   "outputs": [],
   "source": [
    "response = requests.get('https://jsonplaceholder.typicode.com/posts')\n",
    "data = response.json()"
   ]
  },
  {
   "cell_type": "code",
   "execution_count": 148,
   "id": "c382ba81-ba9c-4e87-9c3f-ff1e015f6af2",
   "metadata": {
    "tags": []
   },
   "outputs": [
    {
     "data": {
      "text/html": [
       "<div>\n",
       "<style scoped>\n",
       "    .dataframe tbody tr th:only-of-type {\n",
       "        vertical-align: middle;\n",
       "    }\n",
       "\n",
       "    .dataframe tbody tr th {\n",
       "        vertical-align: top;\n",
       "    }\n",
       "\n",
       "    .dataframe thead th {\n",
       "        text-align: right;\n",
       "    }\n",
       "</style>\n",
       "<table border=\"1\" class=\"dataframe\">\n",
       "  <thead>\n",
       "    <tr style=\"text-align: right;\">\n",
       "      <th></th>\n",
       "      <th>userId</th>\n",
       "      <th>id</th>\n",
       "      <th>title</th>\n",
       "      <th>body</th>\n",
       "    </tr>\n",
       "  </thead>\n",
       "  <tbody>\n",
       "    <tr>\n",
       "      <th>0</th>\n",
       "      <td>1</td>\n",
       "      <td>1</td>\n",
       "      <td>sunt aut facere repellat provident occaecati e...</td>\n",
       "      <td>quia et suscipit\\nsuscipit recusandae consequu...</td>\n",
       "    </tr>\n",
       "    <tr>\n",
       "      <th>1</th>\n",
       "      <td>1</td>\n",
       "      <td>2</td>\n",
       "      <td>qui est esse</td>\n",
       "      <td>est rerum tempore vitae\\nsequi sint nihil repr...</td>\n",
       "    </tr>\n",
       "    <tr>\n",
       "      <th>2</th>\n",
       "      <td>1</td>\n",
       "      <td>3</td>\n",
       "      <td>ea molestias quasi exercitationem repellat qui...</td>\n",
       "      <td>et iusto sed quo iure\\nvoluptatem occaecati om...</td>\n",
       "    </tr>\n",
       "    <tr>\n",
       "      <th>3</th>\n",
       "      <td>1</td>\n",
       "      <td>4</td>\n",
       "      <td>eum et est occaecati</td>\n",
       "      <td>ullam et saepe reiciendis voluptatem adipisci\\...</td>\n",
       "    </tr>\n",
       "    <tr>\n",
       "      <th>4</th>\n",
       "      <td>1</td>\n",
       "      <td>5</td>\n",
       "      <td>nesciunt quas odio</td>\n",
       "      <td>repudiandae veniam quaerat sunt sed\\nalias aut...</td>\n",
       "    </tr>\n",
       "    <tr>\n",
       "      <th>...</th>\n",
       "      <td>...</td>\n",
       "      <td>...</td>\n",
       "      <td>...</td>\n",
       "      <td>...</td>\n",
       "    </tr>\n",
       "    <tr>\n",
       "      <th>95</th>\n",
       "      <td>10</td>\n",
       "      <td>96</td>\n",
       "      <td>quaerat velit veniam amet cupiditate aut numqu...</td>\n",
       "      <td>in non odio excepturi sint eum\\nlabore volupta...</td>\n",
       "    </tr>\n",
       "    <tr>\n",
       "      <th>96</th>\n",
       "      <td>10</td>\n",
       "      <td>97</td>\n",
       "      <td>quas fugiat ut perspiciatis vero provident</td>\n",
       "      <td>eum non blanditiis soluta porro quibusdam volu...</td>\n",
       "    </tr>\n",
       "    <tr>\n",
       "      <th>97</th>\n",
       "      <td>10</td>\n",
       "      <td>98</td>\n",
       "      <td>laboriosam dolor voluptates</td>\n",
       "      <td>doloremque ex facilis sit sint culpa\\nsoluta a...</td>\n",
       "    </tr>\n",
       "    <tr>\n",
       "      <th>98</th>\n",
       "      <td>10</td>\n",
       "      <td>99</td>\n",
       "      <td>temporibus sit alias delectus eligendi possimu...</td>\n",
       "      <td>quo deleniti praesentium dicta non quod\\naut e...</td>\n",
       "    </tr>\n",
       "    <tr>\n",
       "      <th>99</th>\n",
       "      <td>10</td>\n",
       "      <td>100</td>\n",
       "      <td>at nam consequatur ea labore ea harum</td>\n",
       "      <td>cupiditate quo est a modi nesciunt soluta\\nips...</td>\n",
       "    </tr>\n",
       "  </tbody>\n",
       "</table>\n",
       "<p>100 rows × 4 columns</p>\n",
       "</div>"
      ],
      "text/plain": [
       "    userId   id                                              title  \\\n",
       "0        1    1  sunt aut facere repellat provident occaecati e...   \n",
       "1        1    2                                       qui est esse   \n",
       "2        1    3  ea molestias quasi exercitationem repellat qui...   \n",
       "3        1    4                               eum et est occaecati   \n",
       "4        1    5                                 nesciunt quas odio   \n",
       "..     ...  ...                                                ...   \n",
       "95      10   96  quaerat velit veniam amet cupiditate aut numqu...   \n",
       "96      10   97         quas fugiat ut perspiciatis vero provident   \n",
       "97      10   98                        laboriosam dolor voluptates   \n",
       "98      10   99  temporibus sit alias delectus eligendi possimu...   \n",
       "99      10  100              at nam consequatur ea labore ea harum   \n",
       "\n",
       "                                                 body  \n",
       "0   quia et suscipit\\nsuscipit recusandae consequu...  \n",
       "1   est rerum tempore vitae\\nsequi sint nihil repr...  \n",
       "2   et iusto sed quo iure\\nvoluptatem occaecati om...  \n",
       "3   ullam et saepe reiciendis voluptatem adipisci\\...  \n",
       "4   repudiandae veniam quaerat sunt sed\\nalias aut...  \n",
       "..                                                ...  \n",
       "95  in non odio excepturi sint eum\\nlabore volupta...  \n",
       "96  eum non blanditiis soluta porro quibusdam volu...  \n",
       "97  doloremque ex facilis sit sint culpa\\nsoluta a...  \n",
       "98  quo deleniti praesentium dicta non quod\\naut e...  \n",
       "99  cupiditate quo est a modi nesciunt soluta\\nips...  \n",
       "\n",
       "[100 rows x 4 columns]"
      ]
     },
     "execution_count": 148,
     "metadata": {},
     "output_type": "execute_result"
    }
   ],
   "source": [
    "pd.DataFrame(data)"
   ]
  },
  {
   "cell_type": "markdown",
   "id": "0a806221-b364-420e-a7a5-10694067a7c2",
   "metadata": {
    "tags": []
   },
   "source": [
    "df1.columns"
   ]
  },
  {
   "cell_type": "markdown",
   "id": "dd05105e-f97f-4bf5-bc7f-6902d399ce03",
   "metadata": {
    "tags": []
   },
   "source": [
    "# Cargar CSV "
   ]
  },
  {
   "cell_type": "code",
   "execution_count": 156,
   "id": "09f45204-7fca-403a-8f51-8be2586007ce",
   "metadata": {
    "tags": []
   },
   "outputs": [
    {
     "name": "stderr",
     "output_type": "stream",
     "text": [
      "C:\\Users\\adria\\AppData\\Local\\Temp\\ipykernel_19128\\3510921703.py:1: DtypeWarning: Columns (7,22,45,49,50,58,66) have mixed types. Specify dtype option on import or set low_memory=False.\n",
      "  pd.read_csv('vw_busqueda_sitios_19-07-2024.csv' )\n"
     ]
    },
    {
     "data": {
      "text/html": [
       "<div>\n",
       "<style scoped>\n",
       "    .dataframe tbody tr th:only-of-type {\n",
       "        vertical-align: middle;\n",
       "    }\n",
       "\n",
       "    .dataframe tbody tr th {\n",
       "        vertical-align: top;\n",
       "    }\n",
       "\n",
       "    .dataframe thead th {\n",
       "        text-align: right;\n",
       "    }\n",
       "</style>\n",
       "<table border=\"1\" class=\"dataframe\">\n",
       "  <thead>\n",
       "    <tr style=\"text-align: right;\">\n",
       "      <th></th>\n",
       "      <th>CODIGO</th>\n",
       "      <th>NOMBRE</th>\n",
       "      <th>CALLE</th>\n",
       "      <th>NUMERO</th>\n",
       "      <th>ADDRESS</th>\n",
       "      <th>LATITUD</th>\n",
       "      <th>LONGITUD</th>\n",
       "      <th>GRANJA</th>\n",
       "      <th>PREFIJO_TELCO</th>\n",
       "      <th>PREFIJO_CTI</th>\n",
       "      <th>...</th>\n",
       "      <th>ROAMING_PROVEEDOR</th>\n",
       "      <th>GERENCIA</th>\n",
       "      <th>JEFATURA</th>\n",
       "      <th>CELL_OWNER</th>\n",
       "      <th>CATEGORIA_SITIO</th>\n",
       "      <th>GENERADOR</th>\n",
       "      <th>SWITCH_OWNER</th>\n",
       "      <th>EMPRESA_ENERGIA</th>\n",
       "      <th>MEDIDOR</th>\n",
       "      <th>CONTRATO_ENERGIA</th>\n",
       "    </tr>\n",
       "  </thead>\n",
       "  <tbody>\n",
       "    <tr>\n",
       "      <th>0</th>\n",
       "      <td>MO00028</td>\n",
       "      <td>POCITOS2</td>\n",
       "      <td>Bartolito Mitre</td>\n",
       "      <td>2811</td>\n",
       "      <td>Bartolito Mitre 2811</td>\n",
       "      <td>-34.906658</td>\n",
       "      <td>-56.152850</td>\n",
       "      <td>NaN</td>\n",
       "      <td>NaN</td>\n",
       "      <td>NaN</td>\n",
       "      <td>...</td>\n",
       "      <td>NaN</td>\n",
       "      <td>URUG</td>\n",
       "      <td>UY2</td>\n",
       "      <td>FREDDY SAAVEDRA</td>\n",
       "      <td>C</td>\n",
       "      <td>NaN</td>\n",
       "      <td></td>\n",
       "      <td>NaN</td>\n",
       "      <td>NaN</td>\n",
       "      <td>50224075</td>\n",
       "    </tr>\n",
       "    <tr>\n",
       "      <th>1</th>\n",
       "      <td>MO00031</td>\n",
       "      <td>TORRE PATRIA</td>\n",
       "      <td>Bulevar Artigas</td>\n",
       "      <td>581</td>\n",
       "      <td>Bulevar Artigas 581</td>\n",
       "      <td>-34.917900</td>\n",
       "      <td>-56.162990</td>\n",
       "      <td>NaN</td>\n",
       "      <td>NaN</td>\n",
       "      <td>NaN</td>\n",
       "      <td>...</td>\n",
       "      <td>NaN</td>\n",
       "      <td>URUG</td>\n",
       "      <td>UY2</td>\n",
       "      <td>FREDDY SAAVEDRA</td>\n",
       "      <td>C</td>\n",
       "      <td>NaN</td>\n",
       "      <td></td>\n",
       "      <td>NaN</td>\n",
       "      <td>NaN</td>\n",
       "      <td>50224077</td>\n",
       "    </tr>\n",
       "    <tr>\n",
       "      <th>2</th>\n",
       "      <td>BA01029</td>\n",
       "      <td>MDQ SOLIS</td>\n",
       "      <td>CERRITO</td>\n",
       "      <td>1-100</td>\n",
       "      <td>NaN</td>\n",
       "      <td>-38.031667</td>\n",
       "      <td>-57.555833</td>\n",
       "      <td>NaN</td>\n",
       "      <td>NaN</td>\n",
       "      <td>NaN</td>\n",
       "      <td>...</td>\n",
       "      <td>NaN</td>\n",
       "      <td>BLAP</td>\n",
       "      <td>CA</td>\n",
       "      <td></td>\n",
       "      <td>B</td>\n",
       "      <td>NaN</td>\n",
       "      <td></td>\n",
       "      <td>NaN</td>\n",
       "      <td>NaN</td>\n",
       "      <td>NaN</td>\n",
       "    </tr>\n",
       "    <tr>\n",
       "      <th>3</th>\n",
       "      <td>CF02391</td>\n",
       "      <td>Univ Lomas 4</td>\n",
       "      <td>TRELLES</td>\n",
       "      <td>1901-2000</td>\n",
       "      <td>TRELLES 1901-2000</td>\n",
       "      <td>-34.748838</td>\n",
       "      <td>-58.439951</td>\n",
       "      <td>NaN</td>\n",
       "      <td>NaN</td>\n",
       "      <td>NaN</td>\n",
       "      <td>...</td>\n",
       "      <td>NaN</td>\n",
       "      <td>CFBA</td>\n",
       "      <td>AMS</td>\n",
       "      <td>LUIS CARLOS KOCHI</td>\n",
       "      <td>C</td>\n",
       "      <td>NaN</td>\n",
       "      <td></td>\n",
       "      <td>NaN</td>\n",
       "      <td>NaN</td>\n",
       "      <td>NaN</td>\n",
       "    </tr>\n",
       "    <tr>\n",
       "      <th>4</th>\n",
       "      <td>CF02405</td>\n",
       "      <td>Montecastro 4</td>\n",
       "      <td>SAN BLAS</td>\n",
       "      <td>4901-5000</td>\n",
       "      <td>NaN</td>\n",
       "      <td>-34.625996</td>\n",
       "      <td>-58.503857</td>\n",
       "      <td>NaN</td>\n",
       "      <td>NaN</td>\n",
       "      <td>NaN</td>\n",
       "      <td>...</td>\n",
       "      <td>NaN</td>\n",
       "      <td>CFBA</td>\n",
       "      <td>CAP</td>\n",
       "      <td></td>\n",
       "      <td>NaN</td>\n",
       "      <td>NaN</td>\n",
       "      <td></td>\n",
       "      <td>NaN</td>\n",
       "      <td>NaN</td>\n",
       "      <td>NaN</td>\n",
       "    </tr>\n",
       "    <tr>\n",
       "      <th>...</th>\n",
       "      <td>...</td>\n",
       "      <td>...</td>\n",
       "      <td>...</td>\n",
       "      <td>...</td>\n",
       "      <td>...</td>\n",
       "      <td>...</td>\n",
       "      <td>...</td>\n",
       "      <td>...</td>\n",
       "      <td>...</td>\n",
       "      <td>...</td>\n",
       "      <td>...</td>\n",
       "      <td>...</td>\n",
       "      <td>...</td>\n",
       "      <td>...</td>\n",
       "      <td>...</td>\n",
       "      <td>...</td>\n",
       "      <td>...</td>\n",
       "      <td>...</td>\n",
       "      <td>...</td>\n",
       "      <td>...</td>\n",
       "      <td>...</td>\n",
       "    </tr>\n",
       "    <tr>\n",
       "      <th>16975</th>\n",
       "      <td>CF04768</td>\n",
       "      <td>Wicaps Florencio Varela 7</td>\n",
       "      <td>NaN</td>\n",
       "      <td>NaN</td>\n",
       "      <td>NaN</td>\n",
       "      <td>-34.817200</td>\n",
       "      <td>-58.210853</td>\n",
       "      <td>NaN</td>\n",
       "      <td>NaN</td>\n",
       "      <td>NaN</td>\n",
       "      <td>...</td>\n",
       "      <td>NaN</td>\n",
       "      <td>CFBA</td>\n",
       "      <td></td>\n",
       "      <td></td>\n",
       "      <td></td>\n",
       "      <td>NaN</td>\n",
       "      <td></td>\n",
       "      <td>NaN</td>\n",
       "      <td>NaN</td>\n",
       "      <td>NaN</td>\n",
       "    </tr>\n",
       "    <tr>\n",
       "      <th>16976</th>\n",
       "      <td>CF04773</td>\n",
       "      <td>Wicaps Florencio Varela 12</td>\n",
       "      <td>NaN</td>\n",
       "      <td>NaN</td>\n",
       "      <td>NaN</td>\n",
       "      <td>-34.811251</td>\n",
       "      <td>-58.281863</td>\n",
       "      <td>NaN</td>\n",
       "      <td>NaN</td>\n",
       "      <td>NaN</td>\n",
       "      <td>...</td>\n",
       "      <td>NaN</td>\n",
       "      <td>CFBA</td>\n",
       "      <td></td>\n",
       "      <td></td>\n",
       "      <td></td>\n",
       "      <td>NaN</td>\n",
       "      <td></td>\n",
       "      <td>NaN</td>\n",
       "      <td>NaN</td>\n",
       "      <td>NaN</td>\n",
       "    </tr>\n",
       "    <tr>\n",
       "      <th>16977</th>\n",
       "      <td>CF04774</td>\n",
       "      <td>Wicaps Florencio Varela 13</td>\n",
       "      <td>NaN</td>\n",
       "      <td>NaN</td>\n",
       "      <td>NaN</td>\n",
       "      <td>-34.840433</td>\n",
       "      <td>-58.279859</td>\n",
       "      <td>NaN</td>\n",
       "      <td>NaN</td>\n",
       "      <td>NaN</td>\n",
       "      <td>...</td>\n",
       "      <td>NaN</td>\n",
       "      <td>CFBA</td>\n",
       "      <td></td>\n",
       "      <td></td>\n",
       "      <td></td>\n",
       "      <td>NaN</td>\n",
       "      <td></td>\n",
       "      <td>NaN</td>\n",
       "      <td>NaN</td>\n",
       "      <td>NaN</td>\n",
       "    </tr>\n",
       "    <tr>\n",
       "      <th>16978</th>\n",
       "      <td>CF04775</td>\n",
       "      <td>Wicaps Florencio Varela 15</td>\n",
       "      <td>NaN</td>\n",
       "      <td>NaN</td>\n",
       "      <td>NaN</td>\n",
       "      <td>-34.860202</td>\n",
       "      <td>-58.193562</td>\n",
       "      <td>NaN</td>\n",
       "      <td>NaN</td>\n",
       "      <td>NaN</td>\n",
       "      <td>...</td>\n",
       "      <td>NaN</td>\n",
       "      <td>CFBA</td>\n",
       "      <td></td>\n",
       "      <td></td>\n",
       "      <td></td>\n",
       "      <td>NaN</td>\n",
       "      <td></td>\n",
       "      <td>NaN</td>\n",
       "      <td>NaN</td>\n",
       "      <td>NaN</td>\n",
       "    </tr>\n",
       "    <tr>\n",
       "      <th>16979</th>\n",
       "      <td>BA01409</td>\n",
       "      <td>Glew 5 M1</td>\n",
       "      <td>NaN</td>\n",
       "      <td>NaN</td>\n",
       "      <td>NaN</td>\n",
       "      <td>-34.887474</td>\n",
       "      <td>-58.403792</td>\n",
       "      <td>NaN</td>\n",
       "      <td>NaN</td>\n",
       "      <td>NaN</td>\n",
       "      <td>...</td>\n",
       "      <td>NaN</td>\n",
       "      <td>BLAP</td>\n",
       "      <td></td>\n",
       "      <td></td>\n",
       "      <td></td>\n",
       "      <td>NaN</td>\n",
       "      <td></td>\n",
       "      <td>NaN</td>\n",
       "      <td>NaN</td>\n",
       "      <td>NaN</td>\n",
       "    </tr>\n",
       "  </tbody>\n",
       "</table>\n",
       "<p>16980 rows × 68 columns</p>\n",
       "</div>"
      ],
      "text/plain": [
       "        CODIGO                      NOMBRE            CALLE     NUMERO  \\\n",
       "0      MO00028                    POCITOS2  Bartolito Mitre       2811   \n",
       "1      MO00031                TORRE PATRIA  Bulevar Artigas        581   \n",
       "2      BA01029                   MDQ SOLIS          CERRITO      1-100   \n",
       "3      CF02391                Univ Lomas 4          TRELLES  1901-2000   \n",
       "4      CF02405               Montecastro 4         SAN BLAS  4901-5000   \n",
       "...        ...                         ...              ...        ...   \n",
       "16975  CF04768   Wicaps Florencio Varela 7              NaN        NaN   \n",
       "16976  CF04773  Wicaps Florencio Varela 12              NaN        NaN   \n",
       "16977  CF04774  Wicaps Florencio Varela 13              NaN        NaN   \n",
       "16978  CF04775  Wicaps Florencio Varela 15              NaN        NaN   \n",
       "16979  BA01409                   Glew 5 M1              NaN        NaN   \n",
       "\n",
       "                    ADDRESS    LATITUD   LONGITUD GRANJA  PREFIJO_TELCO  \\\n",
       "0      Bartolito Mitre 2811 -34.906658 -56.152850    NaN            NaN   \n",
       "1       Bulevar Artigas 581 -34.917900 -56.162990    NaN            NaN   \n",
       "2                       NaN -38.031667 -57.555833    NaN            NaN   \n",
       "3         TRELLES 1901-2000 -34.748838 -58.439951    NaN            NaN   \n",
       "4                       NaN -34.625996 -58.503857    NaN            NaN   \n",
       "...                     ...        ...        ...    ...            ...   \n",
       "16975                   NaN -34.817200 -58.210853    NaN            NaN   \n",
       "16976                   NaN -34.811251 -58.281863    NaN            NaN   \n",
       "16977                   NaN -34.840433 -58.279859    NaN            NaN   \n",
       "16978                   NaN -34.860202 -58.193562    NaN            NaN   \n",
       "16979                   NaN -34.887474 -58.403792    NaN            NaN   \n",
       "\n",
       "       PREFIJO_CTI  ... ROAMING_PROVEEDOR GERENCIA JEFATURA  \\\n",
       "0              NaN  ...               NaN     URUG      UY2   \n",
       "1              NaN  ...               NaN     URUG      UY2   \n",
       "2              NaN  ...               NaN     BLAP       CA   \n",
       "3              NaN  ...               NaN     CFBA      AMS   \n",
       "4              NaN  ...               NaN     CFBA      CAP   \n",
       "...            ...  ...               ...      ...      ...   \n",
       "16975          NaN  ...               NaN     CFBA            \n",
       "16976          NaN  ...               NaN     CFBA            \n",
       "16977          NaN  ...               NaN     CFBA            \n",
       "16978          NaN  ...               NaN     CFBA            \n",
       "16979          NaN  ...               NaN     BLAP            \n",
       "\n",
       "              CELL_OWNER CATEGORIA_SITIO GENERADOR SWITCH_OWNER  \\\n",
       "0        FREDDY SAAVEDRA               C       NaN                \n",
       "1        FREDDY SAAVEDRA               C       NaN                \n",
       "2                                      B       NaN                \n",
       "3      LUIS CARLOS KOCHI               C       NaN                \n",
       "4                                    NaN       NaN                \n",
       "...                  ...             ...       ...          ...   \n",
       "16975                                          NaN                \n",
       "16976                                          NaN                \n",
       "16977                                          NaN                \n",
       "16978                                          NaN                \n",
       "16979                                          NaN                \n",
       "\n",
       "       EMPRESA_ENERGIA MEDIDOR CONTRATO_ENERGIA  \n",
       "0                  NaN     NaN         50224075  \n",
       "1                  NaN     NaN         50224077  \n",
       "2                  NaN     NaN              NaN  \n",
       "3                  NaN     NaN              NaN  \n",
       "4                  NaN     NaN              NaN  \n",
       "...                ...     ...              ...  \n",
       "16975              NaN     NaN              NaN  \n",
       "16976              NaN     NaN              NaN  \n",
       "16977              NaN     NaN              NaN  \n",
       "16978              NaN     NaN              NaN  \n",
       "16979              NaN     NaN              NaN  \n",
       "\n",
       "[16980 rows x 68 columns]"
      ]
     },
     "execution_count": 156,
     "metadata": {},
     "output_type": "execute_result"
    }
   ],
   "source": [
    "pd.read_csv('vw_busqueda_sitios_19-07-2024.csv' )"
   ]
  },
  {
   "cell_type": "code",
   "execution_count": 163,
   "id": "daa3deff-80bd-4451-a82b-3cf741ca4558",
   "metadata": {
    "tags": []
   },
   "outputs": [
    {
     "data": {
      "text/html": [
       "<div>\n",
       "<style scoped>\n",
       "    .dataframe tbody tr th:only-of-type {\n",
       "        vertical-align: middle;\n",
       "    }\n",
       "\n",
       "    .dataframe tbody tr th {\n",
       "        vertical-align: top;\n",
       "    }\n",
       "\n",
       "    .dataframe thead th {\n",
       "        text-align: right;\n",
       "    }\n",
       "</style>\n",
       "<table border=\"1\" class=\"dataframe\">\n",
       "  <thead>\n",
       "    <tr style=\"text-align: right;\">\n",
       "      <th></th>\n",
       "      <th>Unnamed: 0</th>\n",
       "      <th>Unnamed: 2</th>\n",
       "    </tr>\n",
       "  </thead>\n",
       "  <tbody>\n",
       "    <tr>\n",
       "      <th>0</th>\n",
       "      <td>Nombre</td>\n",
       "      <td>Peso</td>\n",
       "    </tr>\n",
       "    <tr>\n",
       "      <th>1</th>\n",
       "      <td>Juan</td>\n",
       "      <td>74</td>\n",
       "    </tr>\n",
       "    <tr>\n",
       "      <th>2</th>\n",
       "      <td>Pedro</td>\n",
       "      <td>72</td>\n",
       "    </tr>\n",
       "    <tr>\n",
       "      <th>3</th>\n",
       "      <td>Susana</td>\n",
       "      <td>120</td>\n",
       "    </tr>\n",
       "    <tr>\n",
       "      <th>4</th>\n",
       "      <td>Lorenzo</td>\n",
       "      <td>96</td>\n",
       "    </tr>\n",
       "    <tr>\n",
       "      <th>5</th>\n",
       "      <td>Junita</td>\n",
       "      <td>50</td>\n",
       "    </tr>\n",
       "    <tr>\n",
       "      <th>6</th>\n",
       "      <td>Ramon</td>\n",
       "      <td>36</td>\n",
       "    </tr>\n",
       "    <tr>\n",
       "      <th>7</th>\n",
       "      <td>Ariel</td>\n",
       "      <td>65</td>\n",
       "    </tr>\n",
       "    <tr>\n",
       "      <th>8</th>\n",
       "      <td>Laura</td>\n",
       "      <td>92</td>\n",
       "    </tr>\n",
       "  </tbody>\n",
       "</table>\n",
       "</div>"
      ],
      "text/plain": [
       "  Unnamed: 0 Unnamed: 2\n",
       "0     Nombre       Peso\n",
       "1      Juan          74\n",
       "2      Pedro         72\n",
       "3     Susana        120\n",
       "4    Lorenzo         96\n",
       "5     Junita         50\n",
       "6     Ramon          36\n",
       "7      Ariel         65\n",
       "8      Laura         92"
      ]
     },
     "execution_count": 163,
     "metadata": {},
     "output_type": "execute_result"
    }
   ],
   "source": [
    "pd.read_excel('ejemplo2.xlsx', sheet_name='Hoja1', usecols=[0,2])"
   ]
  },
  {
   "cell_type": "markdown",
   "id": "26e76a15-1f28-450e-aca4-ca072199171d",
   "metadata": {},
   "source": [
    "url = 'https://raw.githubusercontent.com/lorey/list-of-countries/master/csv/countries.csv'\n",
    "df = pd.read_csv(url, sep=\";\")\n",
    "print(df.head(5))"
   ]
  },
  {
   "cell_type": "code",
   "execution_count": null,
   "id": "9aee569d-0ccd-4e93-be0b-b6bee5bb31bf",
   "metadata": {},
   "outputs": [],
   "source": []
  },
  {
   "cell_type": "code",
   "execution_count": 199,
   "id": "2e912f30-706d-4fe9-925a-7b040a8a0a78",
   "metadata": {
    "tags": []
   },
   "outputs": [],
   "source": [
    "df = pd.read_csv('HW_REPORT_20240723.csv' , index_col=\"Site\")"
   ]
  },
  {
   "cell_type": "code",
   "execution_count": null,
   "id": "744c76a4-e337-40ee-b462-d2e1b5fdba22",
   "metadata": {},
   "outputs": [],
   "source": []
  },
  {
   "cell_type": "code",
   "execution_count": null,
   "id": "8d18f3f5-58fc-49ad-9f58-c927e986229e",
   "metadata": {},
   "outputs": [],
   "source": []
  },
  {
   "cell_type": "code",
   "execution_count": null,
   "id": "10496741-8bf9-470b-be8a-9038723ba378",
   "metadata": {},
   "outputs": [],
   "source": []
  },
  {
   "cell_type": "code",
   "execution_count": null,
   "id": "073d994c-1fe1-4a40-a6d5-5791ce923b35",
   "metadata": {},
   "outputs": [],
   "source": []
  },
  {
   "cell_type": "code",
   "execution_count": null,
   "id": "7e0501ab-3ada-4f21-995b-09b12b143b97",
   "metadata": {},
   "outputs": [],
   "source": []
  },
  {
   "cell_type": "code",
   "execution_count": 189,
   "id": "9a9396fe-1895-4b75-b281-d7176ffd126f",
   "metadata": {
    "tags": []
   },
   "outputs": [
    {
     "data": {
      "text/html": [
       "<div>\n",
       "<style scoped>\n",
       "    .dataframe tbody tr th:only-of-type {\n",
       "        vertical-align: middle;\n",
       "    }\n",
       "\n",
       "    .dataframe tbody tr th {\n",
       "        vertical-align: top;\n",
       "    }\n",
       "\n",
       "    .dataframe thead th {\n",
       "        text-align: right;\n",
       "    }\n",
       "</style>\n",
       "<table border=\"1\" class=\"dataframe\">\n",
       "  <thead>\n",
       "    <tr style=\"text-align: right;\">\n",
       "      <th></th>\n",
       "      <th>TYPE</th>\n",
       "      <th>RC</th>\n",
       "      <th>MRBTS_Id</th>\n",
       "      <th>MRBTS_Name</th>\n",
       "      <th>NRBTS_Name</th>\n",
       "      <th>NRBTS_Id</th>\n",
       "      <th>LNBTS_Name</th>\n",
       "      <th>LNBTS_Id</th>\n",
       "      <th>RNC_Name</th>\n",
       "      <th>RNC_Id</th>\n",
       "      <th>...</th>\n",
       "      <th>BCF_Id</th>\n",
       "      <th>SMOD</th>\n",
       "      <th>BBMOD</th>\n",
       "      <th>RMOD_5G</th>\n",
       "      <th>RMOD_LTE</th>\n",
       "      <th>RMOD_3G</th>\n",
       "      <th>RMOD_2G</th>\n",
       "      <th>RMOD_RFS_SA</th>\n",
       "      <th>TECH_RFS_SA</th>\n",
       "      <th>creation_date</th>\n",
       "    </tr>\n",
       "    <tr>\n",
       "      <th>Site</th>\n",
       "      <th></th>\n",
       "      <th></th>\n",
       "      <th></th>\n",
       "      <th></th>\n",
       "      <th></th>\n",
       "      <th></th>\n",
       "      <th></th>\n",
       "      <th></th>\n",
       "      <th></th>\n",
       "      <th></th>\n",
       "      <th></th>\n",
       "      <th></th>\n",
       "      <th></th>\n",
       "      <th></th>\n",
       "      <th></th>\n",
       "      <th></th>\n",
       "      <th></th>\n",
       "      <th></th>\n",
       "      <th></th>\n",
       "      <th></th>\n",
       "      <th></th>\n",
       "    </tr>\n",
       "  </thead>\n",
       "  <tbody>\n",
       "    <tr>\n",
       "      <th>AA00001</th>\n",
       "      <td>GSM SA</td>\n",
       "      <td>rc7</td>\n",
       "      <td>NaN</td>\n",
       "      <td>NaN</td>\n",
       "      <td>NaN</td>\n",
       "      <td>NaN</td>\n",
       "      <td>NaN</td>\n",
       "      <td>NaN</td>\n",
       "      <td>NaN</td>\n",
       "      <td>NaN</td>\n",
       "      <td>...</td>\n",
       "      <td>85.0</td>\n",
       "      <td>BOIA</td>\n",
       "      <td>BB2F</td>\n",
       "      <td>NaN</td>\n",
       "      <td>NaN</td>\n",
       "      <td>NaN</td>\n",
       "      <td>TSTB-1</td>\n",
       "      <td>NaN</td>\n",
       "      <td>NaN</td>\n",
       "      <td>7/23/24</td>\n",
       "    </tr>\n",
       "    <tr>\n",
       "      <th>AP00001</th>\n",
       "      <td>GSM SA</td>\n",
       "      <td>rc5</td>\n",
       "      <td>NaN</td>\n",
       "      <td>NaN</td>\n",
       "      <td>NaN</td>\n",
       "      <td>NaN</td>\n",
       "      <td>NaN</td>\n",
       "      <td>NaN</td>\n",
       "      <td>NaN</td>\n",
       "      <td>NaN</td>\n",
       "      <td>...</td>\n",
       "      <td>1863.0</td>\n",
       "      <td>FSMF</td>\n",
       "      <td>NaN</td>\n",
       "      <td>NaN</td>\n",
       "      <td>NaN</td>\n",
       "      <td>NaN</td>\n",
       "      <td>FXFA-0</td>\n",
       "      <td>NaN</td>\n",
       "      <td>NaN</td>\n",
       "      <td>7/23/24</td>\n",
       "    </tr>\n",
       "    <tr>\n",
       "      <th>AP00030</th>\n",
       "      <td>GSM SA</td>\n",
       "      <td>rc5</td>\n",
       "      <td>NaN</td>\n",
       "      <td>NaN</td>\n",
       "      <td>NaN</td>\n",
       "      <td>NaN</td>\n",
       "      <td>NaN</td>\n",
       "      <td>NaN</td>\n",
       "      <td>NaN</td>\n",
       "      <td>NaN</td>\n",
       "      <td>...</td>\n",
       "      <td>1935.0</td>\n",
       "      <td>ESMA</td>\n",
       "      <td>NaN</td>\n",
       "      <td>NaN</td>\n",
       "      <td>NaN</td>\n",
       "      <td>NaN</td>\n",
       "      <td>NaN</td>\n",
       "      <td>NaN</td>\n",
       "      <td>NaN</td>\n",
       "      <td>7/23/24</td>\n",
       "    </tr>\n",
       "  </tbody>\n",
       "</table>\n",
       "<p>3 rows × 25 columns</p>\n",
       "</div>"
      ],
      "text/plain": [
       "           TYPE   RC  MRBTS_Id MRBTS_Name NRBTS_Name  NRBTS_Id LNBTS_Name  \\\n",
       "Site                                                                        \n",
       "AA00001  GSM SA  rc7       NaN        NaN        NaN       NaN        NaN   \n",
       "AP00001  GSM SA  rc5       NaN        NaN        NaN       NaN        NaN   \n",
       "AP00030  GSM SA  rc5       NaN        NaN        NaN       NaN        NaN   \n",
       "\n",
       "         LNBTS_Id RNC_Name  RNC_Id  ...  BCF_Id  SMOD BBMOD  RMOD_5G RMOD_LTE  \\\n",
       "Site                                ...                                         \n",
       "AA00001       NaN      NaN     NaN  ...    85.0  BOIA  BB2F      NaN      NaN   \n",
       "AP00001       NaN      NaN     NaN  ...  1863.0  FSMF   NaN      NaN      NaN   \n",
       "AP00030       NaN      NaN     NaN  ...  1935.0  ESMA   NaN      NaN      NaN   \n",
       "\n",
       "         RMOD_3G RMOD_2G RMOD_RFS_SA TECH_RFS_SA creation_date  \n",
       "Site                                                            \n",
       "AA00001      NaN  TSTB-1         NaN         NaN       7/23/24  \n",
       "AP00001      NaN  FXFA-0         NaN         NaN       7/23/24  \n",
       "AP00030      NaN     NaN         NaN         NaN       7/23/24  \n",
       "\n",
       "[3 rows x 25 columns]"
      ]
     },
     "execution_count": 189,
     "metadata": {},
     "output_type": "execute_result"
    }
   ],
   "source": [
    "df.head(3)"
   ]
  },
  {
   "cell_type": "code",
   "execution_count": 190,
   "id": "4a8fbb88-1610-4f87-bfa3-c4ec3c4cb720",
   "metadata": {
    "tags": []
   },
   "outputs": [
    {
     "data": {
      "text/html": [
       "<div>\n",
       "<style scoped>\n",
       "    .dataframe tbody tr th:only-of-type {\n",
       "        vertical-align: middle;\n",
       "    }\n",
       "\n",
       "    .dataframe tbody tr th {\n",
       "        vertical-align: top;\n",
       "    }\n",
       "\n",
       "    .dataframe thead th {\n",
       "        text-align: right;\n",
       "    }\n",
       "</style>\n",
       "<table border=\"1\" class=\"dataframe\">\n",
       "  <thead>\n",
       "    <tr style=\"text-align: right;\">\n",
       "      <th></th>\n",
       "      <th>TYPE</th>\n",
       "      <th>RC</th>\n",
       "      <th>MRBTS_Id</th>\n",
       "      <th>MRBTS_Name</th>\n",
       "      <th>NRBTS_Name</th>\n",
       "      <th>NRBTS_Id</th>\n",
       "      <th>LNBTS_Name</th>\n",
       "      <th>LNBTS_Id</th>\n",
       "      <th>RNC_Name</th>\n",
       "      <th>RNC_Id</th>\n",
       "      <th>...</th>\n",
       "      <th>BCF_Id</th>\n",
       "      <th>SMOD</th>\n",
       "      <th>BBMOD</th>\n",
       "      <th>RMOD_5G</th>\n",
       "      <th>RMOD_LTE</th>\n",
       "      <th>RMOD_3G</th>\n",
       "      <th>RMOD_2G</th>\n",
       "      <th>RMOD_RFS_SA</th>\n",
       "      <th>TECH_RFS_SA</th>\n",
       "      <th>creation_date</th>\n",
       "    </tr>\n",
       "    <tr>\n",
       "      <th>Site</th>\n",
       "      <th></th>\n",
       "      <th></th>\n",
       "      <th></th>\n",
       "      <th></th>\n",
       "      <th></th>\n",
       "      <th></th>\n",
       "      <th></th>\n",
       "      <th></th>\n",
       "      <th></th>\n",
       "      <th></th>\n",
       "      <th></th>\n",
       "      <th></th>\n",
       "      <th></th>\n",
       "      <th></th>\n",
       "      <th></th>\n",
       "      <th></th>\n",
       "      <th></th>\n",
       "      <th></th>\n",
       "      <th></th>\n",
       "      <th></th>\n",
       "      <th></th>\n",
       "    </tr>\n",
       "  </thead>\n",
       "  <tbody>\n",
       "    <tr>\n",
       "      <th>CF02988</th>\n",
       "      <td>WCDMA SA</td>\n",
       "      <td>rc8</td>\n",
       "      <td>NaN</td>\n",
       "      <td>NaN</td>\n",
       "      <td>NaN</td>\n",
       "      <td>NaN</td>\n",
       "      <td>NaN</td>\n",
       "      <td>NaN</td>\n",
       "      <td>RJOND</td>\n",
       "      <td>356.0</td>\n",
       "      <td>...</td>\n",
       "      <td>NaN</td>\n",
       "      <td>FSMF</td>\n",
       "      <td>FBBA</td>\n",
       "      <td>NaN</td>\n",
       "      <td>NaN</td>\n",
       "      <td>FXFC-1</td>\n",
       "      <td>NaN</td>\n",
       "      <td>NaN</td>\n",
       "      <td>NaN</td>\n",
       "      <td>7/23/24</td>\n",
       "    </tr>\n",
       "    <tr>\n",
       "      <th>IT00048</th>\n",
       "      <td>SRAN/LTE</td>\n",
       "      <td>rc5</td>\n",
       "      <td>15437.0</td>\n",
       "      <td>IT00048GUL-15437</td>\n",
       "      <td>NaN</td>\n",
       "      <td>NaN</td>\n",
       "      <td>IT00048L100</td>\n",
       "      <td>10822.0</td>\n",
       "      <td>RASU4</td>\n",
       "      <td>2294.0</td>\n",
       "      <td>...</td>\n",
       "      <td>648.0</td>\n",
       "      <td>ASIA</td>\n",
       "      <td>ABIA+ABIA</td>\n",
       "      <td>NaN</td>\n",
       "      <td>FRIJ-3/FRIJ-4/FRIJ-5</td>\n",
       "      <td>FXFC-2</td>\n",
       "      <td>FXFC-1</td>\n",
       "      <td>NaN</td>\n",
       "      <td>NaN</td>\n",
       "      <td>7/23/24</td>\n",
       "    </tr>\n",
       "    <tr>\n",
       "      <th>CF03940</th>\n",
       "      <td>SRAN/LTE</td>\n",
       "      <td>rc8</td>\n",
       "      <td>1042.0</td>\n",
       "      <td>CF03940L100</td>\n",
       "      <td>NaN</td>\n",
       "      <td>NaN</td>\n",
       "      <td>CF03940L100</td>\n",
       "      <td>1042.0</td>\n",
       "      <td>NaN</td>\n",
       "      <td>NaN</td>\n",
       "      <td>...</td>\n",
       "      <td>NaN</td>\n",
       "      <td>FSMF</td>\n",
       "      <td>FBBA</td>\n",
       "      <td>NaN</td>\n",
       "      <td>FRIE-1/FRIE-2</td>\n",
       "      <td>NaN</td>\n",
       "      <td>NaN</td>\n",
       "      <td>NaN</td>\n",
       "      <td>NaN</td>\n",
       "      <td>7/23/24</td>\n",
       "    </tr>\n",
       "    <tr>\n",
       "      <th>MO00001</th>\n",
       "      <td>SRAN/LTE</td>\n",
       "      <td>rc7</td>\n",
       "      <td>24075.0</td>\n",
       "      <td>MO00001GUL-24075</td>\n",
       "      <td>NaN</td>\n",
       "      <td>NaN</td>\n",
       "      <td>MO00001L100</td>\n",
       "      <td>5075.0</td>\n",
       "      <td>RMON2</td>\n",
       "      <td>1051.0</td>\n",
       "      <td>...</td>\n",
       "      <td>1336.0</td>\n",
       "      <td>ASIA</td>\n",
       "      <td>ABIA+ABIA+ABIA</td>\n",
       "      <td>NaN</td>\n",
       "      <td>FRIJ-2/FRIJ-3/FRIJ-4/FRPA-5</td>\n",
       "      <td>FXFC-1</td>\n",
       "      <td>FXFA-6</td>\n",
       "      <td>NaN</td>\n",
       "      <td>NaN</td>\n",
       "      <td>7/23/24</td>\n",
       "    </tr>\n",
       "    <tr>\n",
       "      <th>CF02216</th>\n",
       "      <td>SRAN/LTE</td>\n",
       "      <td>rc8</td>\n",
       "      <td>71190.0</td>\n",
       "      <td>CF02216G-71190</td>\n",
       "      <td>NaN</td>\n",
       "      <td>NaN</td>\n",
       "      <td>NaN</td>\n",
       "      <td>NaN</td>\n",
       "      <td>NaN</td>\n",
       "      <td>NaN</td>\n",
       "      <td>...</td>\n",
       "      <td>835.0</td>\n",
       "      <td>FSMF</td>\n",
       "      <td>FBBA</td>\n",
       "      <td>NaN</td>\n",
       "      <td>NaN</td>\n",
       "      <td>NaN</td>\n",
       "      <td>FXFC-1</td>\n",
       "      <td>NaN</td>\n",
       "      <td>NaN</td>\n",
       "      <td>7/23/24</td>\n",
       "    </tr>\n",
       "  </tbody>\n",
       "</table>\n",
       "<p>5 rows × 25 columns</p>\n",
       "</div>"
      ],
      "text/plain": [
       "             TYPE   RC  MRBTS_Id        MRBTS_Name NRBTS_Name  NRBTS_Id  \\\n",
       "Site                                                                      \n",
       "CF02988  WCDMA SA  rc8       NaN               NaN        NaN       NaN   \n",
       "IT00048  SRAN/LTE  rc5   15437.0  IT00048GUL-15437        NaN       NaN   \n",
       "CF03940  SRAN/LTE  rc8    1042.0       CF03940L100        NaN       NaN   \n",
       "MO00001  SRAN/LTE  rc7   24075.0  MO00001GUL-24075        NaN       NaN   \n",
       "CF02216  SRAN/LTE  rc8   71190.0    CF02216G-71190        NaN       NaN   \n",
       "\n",
       "          LNBTS_Name  LNBTS_Id RNC_Name  RNC_Id  ...  BCF_Id  SMOD  \\\n",
       "Site                                             ...                 \n",
       "CF02988          NaN       NaN    RJOND   356.0  ...     NaN  FSMF   \n",
       "IT00048  IT00048L100   10822.0    RASU4  2294.0  ...   648.0  ASIA   \n",
       "CF03940  CF03940L100    1042.0      NaN     NaN  ...     NaN  FSMF   \n",
       "MO00001  MO00001L100    5075.0    RMON2  1051.0  ...  1336.0  ASIA   \n",
       "CF02216          NaN       NaN      NaN     NaN  ...   835.0  FSMF   \n",
       "\n",
       "                  BBMOD  RMOD_5G                     RMOD_LTE  RMOD_3G  \\\n",
       "Site                                                                     \n",
       "CF02988            FBBA      NaN                          NaN   FXFC-1   \n",
       "IT00048       ABIA+ABIA      NaN         FRIJ-3/FRIJ-4/FRIJ-5   FXFC-2   \n",
       "CF03940            FBBA      NaN                FRIE-1/FRIE-2      NaN   \n",
       "MO00001  ABIA+ABIA+ABIA      NaN  FRIJ-2/FRIJ-3/FRIJ-4/FRPA-5   FXFC-1   \n",
       "CF02216            FBBA      NaN                          NaN      NaN   \n",
       "\n",
       "        RMOD_2G RMOD_RFS_SA TECH_RFS_SA creation_date  \n",
       "Site                                                   \n",
       "CF02988     NaN         NaN         NaN       7/23/24  \n",
       "IT00048  FXFC-1         NaN         NaN       7/23/24  \n",
       "CF03940     NaN         NaN         NaN       7/23/24  \n",
       "MO00001  FXFA-6         NaN         NaN       7/23/24  \n",
       "CF02216  FXFC-1         NaN         NaN       7/23/24  \n",
       "\n",
       "[5 rows x 25 columns]"
      ]
     },
     "execution_count": 190,
     "metadata": {},
     "output_type": "execute_result"
    }
   ],
   "source": [
    "df.sample(5)"
   ]
  },
  {
   "cell_type": "code",
   "execution_count": 196,
   "id": "d29c5e99-73dc-4095-a941-ebc7a74a7d3f",
   "metadata": {
    "tags": []
   },
   "outputs": [
    {
     "data": {
      "text/plain": [
       "(252, 19)"
      ]
     },
     "execution_count": 196,
     "metadata": {},
     "output_type": "execute_result"
    }
   ],
   "source": [
    "df.shape"
   ]
  },
  {
   "cell_type": "code",
   "execution_count": 201,
   "id": "6c250c3b-a581-458c-9d45-687381dde8ba",
   "metadata": {
    "tags": []
   },
   "outputs": [
    {
     "data": {
      "text/plain": [
       "Index(['TYPE', 'RC', 'MRBTS_Id', 'MRBTS_Name', 'NRBTS_Name', 'NRBTS_Id',\n",
       "       'LNBTS_Name', 'LNBTS_Id', 'RNC_Name', 'RNC_Id', 'WBTS_Name', 'WBTS_Id',\n",
       "       'BSC_Name', 'BSC_Id', 'BCF_Name', 'BCF_Id', 'SMOD', 'BBMOD', 'RMOD_5G',\n",
       "       'RMOD_LTE', 'RMOD_3G', 'RMOD_2G', 'RMOD_RFS_SA', 'TECH_RFS_SA',\n",
       "       'creation_date'],\n",
       "      dtype='object')"
      ]
     },
     "execution_count": 201,
     "metadata": {},
     "output_type": "execute_result"
    }
   ],
   "source": [
    "df.columns"
   ]
  },
  {
   "cell_type": "code",
   "execution_count": 202,
   "id": "4770e1e3-2534-4f2e-9515-78a8243868d7",
   "metadata": {
    "tags": []
   },
   "outputs": [
    {
     "data": {
      "text/plain": [
       "Index(['AA00001', 'AP00001', 'AP00030', 'AP00047', 'AP00062', 'AP00073',\n",
       "       'AP00074', 'AP00076', 'AP00077', 'AP00088',\n",
       "       ...\n",
       "       'TU00748', 'TU00749', 'TU00750', 'TU00751', 'TU00752', 'TU00757',\n",
       "       'TU00758', 'TU00759', 'TU00760', 'UP'],\n",
       "      dtype='object', name='Site', length=15710)"
      ]
     },
     "execution_count": 202,
     "metadata": {},
     "output_type": "execute_result"
    }
   ],
   "source": [
    "df.index"
   ]
  },
  {
   "cell_type": "code",
   "execution_count": 203,
   "id": "1f9e05bd-3f9e-4d1f-ad34-0b1be314e9ae",
   "metadata": {
    "tags": []
   },
   "outputs": [
    {
     "data": {
      "text/plain": [
       "Index(['TYPE', 'RC', 'MRBTS_Id', 'MRBTS_Name', 'NRBTS_Name', 'NRBTS_Id',\n",
       "       'LNBTS_Name', 'LNBTS_Id', 'RNC_Name', 'RNC_Id', 'WBTS_Name', 'WBTS_Id',\n",
       "       'BSC_Name', 'BSC_Id', 'BCF_Name', 'BCF_Id', 'SMOD', 'BBMOD', 'RMOD_5G',\n",
       "       'RMOD_LTE', 'RMOD_3G', 'RMOD_2G', 'RMOD_RFS_SA', 'TECH_RFS_SA',\n",
       "       'creation_date'],\n",
       "      dtype='object')"
      ]
     },
     "execution_count": 203,
     "metadata": {},
     "output_type": "execute_result"
    }
   ],
   "source": [
    "df.columns"
   ]
  },
  {
   "cell_type": "code",
   "execution_count": 207,
   "id": "16b4c7fb-634a-4413-8144-009263b4ac2b",
   "metadata": {
    "tags": []
   },
   "outputs": [
    {
     "data": {
      "text/plain": [
       "rc8    5905\n",
       "rc5    5030\n",
       "rc7    4775\n",
       "Name: RC, dtype: int64"
      ]
     },
     "execution_count": 207,
     "metadata": {},
     "output_type": "execute_result"
    }
   ],
   "source": [
    "df['RC'].value_counts()"
   ]
  },
  {
   "cell_type": "code",
   "execution_count": 208,
   "id": "3e242731-ebc3-47b0-bc87-09559f40a291",
   "metadata": {
    "tags": []
   },
   "outputs": [],
   "source": [
    "data = {\n",
    "    'Nombre': ['Juan', 'Ana', 'Luis', 'Juan', 'Ana'],\n",
    "    'Edad': [28, 24, 22, 30, 26],\n",
    "    'Ciudad': ['Madrid', 'Barcelona', 'Madrid', 'Madrid', 'Barcelona']\n",
    "}\n"
   ]
  },
  {
   "cell_type": "code",
   "execution_count": 218,
   "id": "3b15f7d5-b49d-42fb-ab87-9418e4993140",
   "metadata": {
    "tags": []
   },
   "outputs": [],
   "source": [
    "df_test=pd.read_excel('ejemplo2.xlsx' , sheet_name='Hoja1' , header=1  )"
   ]
  },
  {
   "cell_type": "code",
   "execution_count": 227,
   "id": "a35ff9a8-7fa9-4b67-be6a-460ff09c9772",
   "metadata": {
    "tags": []
   },
   "outputs": [
    {
     "data": {
      "text/html": [
       "<div>\n",
       "<style scoped>\n",
       "    .dataframe tbody tr th:only-of-type {\n",
       "        vertical-align: middle;\n",
       "    }\n",
       "\n",
       "    .dataframe tbody tr th {\n",
       "        vertical-align: top;\n",
       "    }\n",
       "\n",
       "    .dataframe thead th {\n",
       "        text-align: right;\n",
       "    }\n",
       "</style>\n",
       "<table border=\"1\" class=\"dataframe\">\n",
       "  <thead>\n",
       "    <tr style=\"text-align: right;\">\n",
       "      <th></th>\n",
       "      <th>Nombre</th>\n",
       "      <th>Provincia</th>\n",
       "      <th>Peso</th>\n",
       "      <th>Edad</th>\n",
       "    </tr>\n",
       "  </thead>\n",
       "  <tbody>\n",
       "    <tr>\n",
       "      <th>5</th>\n",
       "      <td>Ramon</td>\n",
       "      <td>Corrientes</td>\n",
       "      <td>36</td>\n",
       "      <td>28</td>\n",
       "    </tr>\n",
       "  </tbody>\n",
       "</table>\n",
       "</div>"
      ],
      "text/plain": [
       "   Nombre   Provincia  Peso  Edad\n",
       "5  Ramon   Corrientes    36    28"
      ]
     },
     "execution_count": 227,
     "metadata": {},
     "output_type": "execute_result"
    }
   ],
   "source": [
    "df_test[df_test['Peso']<50]"
   ]
  },
  {
   "cell_type": "code",
   "execution_count": 228,
   "id": "8b8b152e-9060-456a-a3c3-23d7df9e490d",
   "metadata": {
    "tags": []
   },
   "outputs": [
    {
     "data": {
      "text/html": [
       "<div>\n",
       "<style scoped>\n",
       "    .dataframe tbody tr th:only-of-type {\n",
       "        vertical-align: middle;\n",
       "    }\n",
       "\n",
       "    .dataframe tbody tr th {\n",
       "        vertical-align: top;\n",
       "    }\n",
       "\n",
       "    .dataframe thead th {\n",
       "        text-align: right;\n",
       "    }\n",
       "</style>\n",
       "<table border=\"1\" class=\"dataframe\">\n",
       "  <thead>\n",
       "    <tr style=\"text-align: right;\">\n",
       "      <th></th>\n",
       "      <th>Nombre</th>\n",
       "      <th>Provincia</th>\n",
       "      <th>Peso</th>\n",
       "      <th>Edad</th>\n",
       "    </tr>\n",
       "  </thead>\n",
       "  <tbody>\n",
       "    <tr>\n",
       "      <th>0</th>\n",
       "      <td>Juan</td>\n",
       "      <td>Cordoba</td>\n",
       "      <td>74</td>\n",
       "      <td>33</td>\n",
       "    </tr>\n",
       "    <tr>\n",
       "      <th>1</th>\n",
       "      <td>Pedro</td>\n",
       "      <td>San Juan</td>\n",
       "      <td>72</td>\n",
       "      <td>35</td>\n",
       "    </tr>\n",
       "    <tr>\n",
       "      <th>2</th>\n",
       "      <td>Susana</td>\n",
       "      <td>Mendoza</td>\n",
       "      <td>120</td>\n",
       "      <td>64</td>\n",
       "    </tr>\n",
       "    <tr>\n",
       "      <th>3</th>\n",
       "      <td>Lorenzo</td>\n",
       "      <td>Mendoza</td>\n",
       "      <td>96</td>\n",
       "      <td>55</td>\n",
       "    </tr>\n",
       "    <tr>\n",
       "      <th>4</th>\n",
       "      <td>Junita</td>\n",
       "      <td>Mendoza</td>\n",
       "      <td>50</td>\n",
       "      <td>43</td>\n",
       "    </tr>\n",
       "    <tr>\n",
       "      <th>5</th>\n",
       "      <td>Ramon</td>\n",
       "      <td>Corrientes</td>\n",
       "      <td>36</td>\n",
       "      <td>28</td>\n",
       "    </tr>\n",
       "    <tr>\n",
       "      <th>6</th>\n",
       "      <td>Ariel</td>\n",
       "      <td>Chaco</td>\n",
       "      <td>65</td>\n",
       "      <td>50</td>\n",
       "    </tr>\n",
       "    <tr>\n",
       "      <th>7</th>\n",
       "      <td>Laura</td>\n",
       "      <td>Misiones</td>\n",
       "      <td>92</td>\n",
       "      <td>28</td>\n",
       "    </tr>\n",
       "  </tbody>\n",
       "</table>\n",
       "</div>"
      ],
      "text/plain": [
       "    Nombre   Provincia  Peso  Edad\n",
       "0    Juan      Cordoba    74    33\n",
       "1    Pedro    San Juan    72    35\n",
       "2   Susana     Mendoza   120    64\n",
       "3  Lorenzo     Mendoza    96    55\n",
       "4   Junita     Mendoza    50    43\n",
       "5   Ramon   Corrientes    36    28\n",
       "6    Ariel       Chaco    65    50\n",
       "7    Laura    Misiones    92    28"
      ]
     },
     "execution_count": 228,
     "metadata": {},
     "output_type": "execute_result"
    }
   ],
   "source": [
    "df_test"
   ]
  },
  {
   "cell_type": "code",
   "execution_count": 237,
   "id": "fdbf9145-8dff-428d-8fe2-fa6ba6f204fd",
   "metadata": {
    "tags": []
   },
   "outputs": [
    {
     "data": {
      "text/plain": [
       "Provincia\n",
       "Chaco         50\n",
       "Cordoba       33\n",
       "Corrientes    28\n",
       "Mendoza       43\n",
       "Misiones      28\n",
       "San Juan      35\n",
       "Name: Edad, dtype: int64"
      ]
     },
     "execution_count": 237,
     "metadata": {},
     "output_type": "execute_result"
    }
   ],
   "source": [
    "df_test.groupby('Provincia')['Edad'].min()"
   ]
  },
  {
   "cell_type": "markdown",
   "id": "1045fb3e-c47a-4de4-b002-66fb45cffa1d",
   "metadata": {},
   "source": [
    "## Manejo de Nulos en DataFrame \n"
   ]
  },
  {
   "cell_type": "code",
   "execution_count": 60,
   "id": "76b55336-52c3-476b-9b18-821539c9a617",
   "metadata": {
    "tags": []
   },
   "outputs": [],
   "source": [
    "import numpy as np"
   ]
  },
  {
   "cell_type": "code",
   "execution_count": 240,
   "id": "1f939dd1-b29f-4405-a281-2eea4370e830",
   "metadata": {
    "tags": []
   },
   "outputs": [],
   "source": [
    "data={'Nombre': ['Juan', 'Ana', 'Luis', 'Juan', 'Ana','Susana','Maria'],\n",
    " 'Edad': [28, 24, 22, 30, 26,28,32],\n",
    " 'Ciudad': ['Madrid', 'Barcelona', 'Madrid', 'Madrid', np.nan , np.nan , 'Madrid']}"
   ]
  },
  {
   "cell_type": "code",
   "execution_count": 241,
   "id": "f35b8916-abd3-48f9-9869-b455ff0d4d07",
   "metadata": {
    "tags": []
   },
   "outputs": [],
   "source": [
    "df = pd.DataFrame(data)"
   ]
  },
  {
   "cell_type": "markdown",
   "id": "33d4401b-1e16-4226-baae-3876217e00c4",
   "metadata": {
    "tags": []
   },
   "source": [
    "## Concatener DataFrames"
   ]
  },
  {
   "cell_type": "code",
   "execution_count": 73,
   "id": "ca436973-3ad3-409b-b1fd-dc44a8e13f10",
   "metadata": {
    "tags": []
   },
   "outputs": [],
   "source": [
    "import pandas as pd\n",
    "\n",
    "# Crear dos DataFrames de ejemplo\n",
    "data1 = {'Nombre': ['Juan', 'Ana'], 'Edad': [28, 24]}\n",
    "data2 = {'Nombre': ['Luis', 'Pedro'], 'Edad': [22, 30]}\n",
    "df1 = pd.DataFrame(data1)\n",
    "df2 = pd.DataFrame(data2)\n"
   ]
  },
  {
   "cell_type": "code",
   "execution_count": 74,
   "id": "9573c044-ab5f-44b9-b5cb-4dc22bd4dc1a",
   "metadata": {
    "tags": []
   },
   "outputs": [
    {
     "data": {
      "text/html": [
       "<div>\n",
       "<style scoped>\n",
       "    .dataframe tbody tr th:only-of-type {\n",
       "        vertical-align: middle;\n",
       "    }\n",
       "\n",
       "    .dataframe tbody tr th {\n",
       "        vertical-align: top;\n",
       "    }\n",
       "\n",
       "    .dataframe thead th {\n",
       "        text-align: right;\n",
       "    }\n",
       "</style>\n",
       "<table border=\"1\" class=\"dataframe\">\n",
       "  <thead>\n",
       "    <tr style=\"text-align: right;\">\n",
       "      <th></th>\n",
       "      <th>Nombre</th>\n",
       "      <th>Edad</th>\n",
       "    </tr>\n",
       "  </thead>\n",
       "  <tbody>\n",
       "    <tr>\n",
       "      <th>0</th>\n",
       "      <td>Juan</td>\n",
       "      <td>28</td>\n",
       "    </tr>\n",
       "    <tr>\n",
       "      <th>1</th>\n",
       "      <td>Ana</td>\n",
       "      <td>24</td>\n",
       "    </tr>\n",
       "  </tbody>\n",
       "</table>\n",
       "</div>"
      ],
      "text/plain": [
       "  Nombre  Edad\n",
       "0   Juan    28\n",
       "1    Ana    24"
      ]
     },
     "execution_count": 74,
     "metadata": {},
     "output_type": "execute_result"
    }
   ],
   "source": [
    "df1"
   ]
  },
  {
   "cell_type": "code",
   "execution_count": 76,
   "id": "f5b2dc4e-a4fb-48a6-b9c9-0ccb8281dd27",
   "metadata": {
    "tags": []
   },
   "outputs": [
    {
     "data": {
      "text/html": [
       "<div>\n",
       "<style scoped>\n",
       "    .dataframe tbody tr th:only-of-type {\n",
       "        vertical-align: middle;\n",
       "    }\n",
       "\n",
       "    .dataframe tbody tr th {\n",
       "        vertical-align: top;\n",
       "    }\n",
       "\n",
       "    .dataframe thead th {\n",
       "        text-align: right;\n",
       "    }\n",
       "</style>\n",
       "<table border=\"1\" class=\"dataframe\">\n",
       "  <thead>\n",
       "    <tr style=\"text-align: right;\">\n",
       "      <th></th>\n",
       "      <th>Nombre</th>\n",
       "      <th>Edad</th>\n",
       "    </tr>\n",
       "  </thead>\n",
       "  <tbody>\n",
       "    <tr>\n",
       "      <th>0</th>\n",
       "      <td>Luis</td>\n",
       "      <td>22</td>\n",
       "    </tr>\n",
       "    <tr>\n",
       "      <th>1</th>\n",
       "      <td>Pedro</td>\n",
       "      <td>30</td>\n",
       "    </tr>\n",
       "  </tbody>\n",
       "</table>\n",
       "</div>"
      ],
      "text/plain": [
       "  Nombre  Edad\n",
       "0   Luis    22\n",
       "1  Pedro    30"
      ]
     },
     "execution_count": 76,
     "metadata": {},
     "output_type": "execute_result"
    }
   ],
   "source": [
    "df2"
   ]
  },
  {
   "cell_type": "code",
   "execution_count": 79,
   "id": "237d0052-8bf4-448b-9e8f-aafdce780be0",
   "metadata": {
    "tags": []
   },
   "outputs": [
    {
     "data": {
      "text/html": [
       "<div>\n",
       "<style scoped>\n",
       "    .dataframe tbody tr th:only-of-type {\n",
       "        vertical-align: middle;\n",
       "    }\n",
       "\n",
       "    .dataframe tbody tr th {\n",
       "        vertical-align: top;\n",
       "    }\n",
       "\n",
       "    .dataframe thead th {\n",
       "        text-align: right;\n",
       "    }\n",
       "</style>\n",
       "<table border=\"1\" class=\"dataframe\">\n",
       "  <thead>\n",
       "    <tr style=\"text-align: right;\">\n",
       "      <th></th>\n",
       "      <th>Nombre</th>\n",
       "      <th>Edad</th>\n",
       "      <th>Nombre</th>\n",
       "      <th>Edad</th>\n",
       "    </tr>\n",
       "  </thead>\n",
       "  <tbody>\n",
       "    <tr>\n",
       "      <th>0</th>\n",
       "      <td>Luis</td>\n",
       "      <td>22</td>\n",
       "      <td>Juan</td>\n",
       "      <td>28</td>\n",
       "    </tr>\n",
       "    <tr>\n",
       "      <th>1</th>\n",
       "      <td>Pedro</td>\n",
       "      <td>30</td>\n",
       "      <td>Ana</td>\n",
       "      <td>24</td>\n",
       "    </tr>\n",
       "  </tbody>\n",
       "</table>\n",
       "</div>"
      ],
      "text/plain": [
       "  Nombre  Edad Nombre  Edad\n",
       "0   Luis    22   Juan    28\n",
       "1  Pedro    30    Ana    24"
      ]
     },
     "execution_count": 79,
     "metadata": {},
     "output_type": "execute_result"
    }
   ],
   "source": [
    "pd.concat([df2,df1],axis=1)"
   ]
  },
  {
   "cell_type": "code",
   "execution_count": 80,
   "id": "2066e9e9-c16d-4fd0-a7ba-aed9148f2cf0",
   "metadata": {
    "tags": []
   },
   "outputs": [],
   "source": [
    "df1['nueva']=df2['Edad']*2"
   ]
  },
  {
   "cell_type": "code",
   "execution_count": 81,
   "id": "1e1dd298-6816-4f35-8390-8454027c44f2",
   "metadata": {
    "tags": []
   },
   "outputs": [
    {
     "data": {
      "text/html": [
       "<div>\n",
       "<style scoped>\n",
       "    .dataframe tbody tr th:only-of-type {\n",
       "        vertical-align: middle;\n",
       "    }\n",
       "\n",
       "    .dataframe tbody tr th {\n",
       "        vertical-align: top;\n",
       "    }\n",
       "\n",
       "    .dataframe thead th {\n",
       "        text-align: right;\n",
       "    }\n",
       "</style>\n",
       "<table border=\"1\" class=\"dataframe\">\n",
       "  <thead>\n",
       "    <tr style=\"text-align: right;\">\n",
       "      <th></th>\n",
       "      <th>Nombre</th>\n",
       "      <th>Edad</th>\n",
       "      <th>nueva</th>\n",
       "    </tr>\n",
       "  </thead>\n",
       "  <tbody>\n",
       "    <tr>\n",
       "      <th>0</th>\n",
       "      <td>Juan</td>\n",
       "      <td>28</td>\n",
       "      <td>44</td>\n",
       "    </tr>\n",
       "    <tr>\n",
       "      <th>1</th>\n",
       "      <td>Ana</td>\n",
       "      <td>24</td>\n",
       "      <td>60</td>\n",
       "    </tr>\n",
       "  </tbody>\n",
       "</table>\n",
       "</div>"
      ],
      "text/plain": [
       "  Nombre  Edad  nueva\n",
       "0   Juan    28     44\n",
       "1    Ana    24     60"
      ]
     },
     "execution_count": 81,
     "metadata": {},
     "output_type": "execute_result"
    }
   ],
   "source": [
    "df1"
   ]
  },
  {
   "cell_type": "markdown",
   "id": "e2eabee7-5b4d-448e-a5fd-0efa1b029dc6",
   "metadata": {
    "tags": []
   },
   "source": [
    "import seaborn as sns # importar la libreria seaborn\n",
    "titanic = sns.load_dataset('titanic')\n",
    "titanic.info()"
   ]
  },
  {
   "cell_type": "code",
   "execution_count": 253,
   "id": "ace2d831-aec4-4270-9811-f9285cbc0ca4",
   "metadata": {
    "tags": []
   },
   "outputs": [],
   "source": [
    "import pandas as pd\n",
    "import seaborn as sns\n",
    "import matplotlib.pyplot as plt\n",
    "\n",
    "# Cargar el dataset Titanic de Seaborn\n",
    "titanic = sns.load_dataset('titanic')"
   ]
  },
  {
   "cell_type": "code",
   "execution_count": 254,
   "id": "a0d10cc3-708e-4615-9032-a6e4f0cddc49",
   "metadata": {
    "tags": []
   },
   "outputs": [
    {
     "data": {
      "image/png": "[encoded data removed]",
      "text/plain": [
       "<Figure size 1000x600 with 1 Axes>"
      ]
     },
     "metadata": {},
     "output_type": "display_data"
    }
   ],
   "source": [
    "plt.figure(figsize=(10, 6))\n",
    "sns.scatterplot(x='age', y='fare', hue='class', data=titanic)\n",
    "\n",
    "# Añadir títulos y etiquetas\n",
    "plt.title('Precio del Boleto vs. Edad')\n",
    "plt.xlabel('Edad')\n",
    "plt.ylabel('Precio del Boleto')\n",
    "plt.legend(title='Clase')\n",
    "\n",
    "# Mostrar el gráfico\n",
    "plt.show()\n"
   ]
  },
  {
   "cell_type": "code",
   "execution_count": 255,
   "id": "61715d91-bf06-4441-addd-093906755cfd",
   "metadata": {
    "tags": []
   },
   "outputs": [
    {
     "data": {
      "text/plain": [
       "<Axes: xlabel='class', ylabel='count'>"
      ]
     },
     "execution_count": 255,
     "metadata": {},
     "output_type": "execute_result"
    },
    {
     "data": {
      "image/png": "[encoded data removed]",
      "text/plain": [
       "<Figure size 640x480 with 1 Axes>"
      ]
     },
     "metadata": {},
     "output_type": "display_data"
    }
   ],
   "source": [
    "sns.countplot(x='class', data=titanic)"
   ]
  },
  {
   "cell_type": "code",
   "execution_count": 257,
   "id": "59388945-d702-47ab-9776-e4cbb968fe23",
   "metadata": {
    "tags": []
   },
   "outputs": [
    {
     "data": {
      "text/plain": [
       "<matplotlib.legend.Legend at 0x22e0bdf2c90>"
      ]
     },
     "execution_count": 257,
     "metadata": {},
     "output_type": "execute_result"
    },
    {
     "data": {
      "image/png": "[encoded data removed]",
      "text/plain": [
       "<Figure size 640x480 with 1 Axes>"
      ]
     },
     "metadata": {},
     "output_type": "display_data"
    }
   ],
   "source": [
    "sns.countplot(x='class', hue='survived', data=titanic)\n",
    "plt.legend(title='Sobrevivió', labels=['No', 'Sí'])"
   ]
  },
  {
   "cell_type": "code",
   "execution_count": null,
   "id": "6d2b54a0-3b3b-453f-8f2d-4f28994c2858",
   "metadata": {},
   "outputs": [],
   "source": []
  },
  {
   "cell_type": "code",
   "execution_count": null,
   "id": "f8cf5ddd-637e-4570-9d3e-14ae933e568d",
   "metadata": {},
   "outputs": [],
   "source": []
  }
 ],
 "metadata": {
  "kernelspec": {
   "display_name": "Python 3 (ipykernel)",
   "language": "python",
   "name": "python3"
  },
  "language_info": {
   "codemirror_mode": {
    "name": "ipython",
    "version": 3
   },
   "file_extension": ".py",
   "mimetype": "text/x-python",
   "name": "python",
   "nbconvert_exporter": "python",
   "pygments_lexer": "ipython3",
   "version": "3.11.4"
  }
 },
 "nbformat": 4,
 "nbformat_minor": 5
}
